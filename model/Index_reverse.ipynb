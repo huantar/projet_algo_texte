{
 "cells": [
  {
   "cell_type": "code",
   "execution_count": null,
   "metadata": {},
   "outputs": [],
   "source": [
    "Class Index_reverse :\n",
    "    \"\"\" Répertorie les mots de l'index selon les pages où ils se trouvent et leur occurence dans ces pages.\n",
    "        Cette classe à pour paramètres :\n",
    "        \n",
    "        - l'index \n",
    "        - mots qui contient tous les mots des pages sans doublons\n",
    "        - reverse qui contient l'occurences des mots par pages\n",
    "        \"\"\"\n",
    "    \n",
    "    #constructeur de la classe index reserve\n",
    "    \n",
    "    def __init__(self,index):\n",
    "        self.index=index\n",
    "        self.mots=[]\n",
    "        self.reverse=[]\n",
    "        #on fait un split du contenu des pages et on range les mots(sans doublons) dans self.mots\n",
    "        for i in range(len(self.index)):\n",
    "            self.index[i][1]=self.index[i][1].split()\n",
    "            #on enleve les doublons du contenu de chaque page et on lajoute a self.mots\n",
    "            self.mots.extend(list(dict.fromkeys(self.index[i][1])))\n",
    "        #on s'assure d'enlever les mots qui reviennent dans plusieurs pages\n",
    "        self.mots=list(dict.fromkeys(self.mots))\n",
    "        #on définit reverse tel que [[mots1,[nbrOcc,url1],...,[nbrOcc,url2]],....,[motsN,[nbrOcc,url1],...,[nbrOcc,url2]]]\n",
    "        for i in range(len(mots)):\n",
    "            self.reverse.append([mots[i]])\n",
    "            for j in range(len(self.index)):\n",
    "                #si le mots est dans la page on ajoute [nbrOccurence,url] à reverse\n",
    "                if self.index[j][1].count(mots[i])>0:\n",
    "                    reverse[i].append([self.index[j][1].count(mots[i]),self.index[j][0]])"
   ]
  }
 ],
 "metadata": {
  "kernelspec": {
   "display_name": "Python 3",
   "language": "python",
   "name": "python3"
  },
  "language_info": {
   "codemirror_mode": {
    "name": "ipython",
    "version": 3
   },
   "file_extension": ".py",
   "mimetype": "text/x-python",
   "name": "python",
   "nbconvert_exporter": "python",
   "pygments_lexer": "ipython3",
   "version": "3.7.4"
  }
 },
 "nbformat": 4,
 "nbformat_minor": 2
}
